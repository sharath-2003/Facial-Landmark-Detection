{
 "cells": [
  {
   "cell_type": "code",
   "execution_count": 1,
   "id": "ba699a1c",
   "metadata": {},
   "outputs": [],
   "source": [
    "import cv2\n",
    "import mediapipe as mp"
   ]
  },
  {
   "cell_type": "code",
   "execution_count": 23,
   "id": "ae8ba278",
   "metadata": {},
   "outputs": [],
   "source": [
    "visuals = cv2.VideoCapture(0)\n",
    "\n",
    "mesh_face_media =mp.solutions.face_mesh\n",
    "mydrawing = mp.solutions.drawing_utils\n",
    "mydrawingstyles = mp.solutions.drawing_styles\n",
    "myspecs=mydrawing.DrawingSpec(color= (255, 255, 255),thickness=2)\n",
    "myspecs1=mydrawing.DrawingSpec(color= ( 255,0, 0),thickness=1)\n",
    "\n",
    "with mesh_face_media.FaceMesh(\n",
    "        max_num_faces=1,\n",
    "        refine_landmarks=True,\n",
    "        min_detection_confidence=0.4,\n",
    "        min_tracking_confidence=0.4\n",
    "        )as facemesh:\n",
    "        \n",
    "        while visuals.isOpened():\n",
    "            success,image=visuals.read()\n",
    "            if not success:\n",
    "                continue\n",
    "            live=facemesh.process(cv2.cvtColor(image, cv2.COLOR_BGR2RGB))\n",
    "            if live.multi_face_landmarks:\n",
    "                for face_landmarks in live.multi_face_landmarks:\n",
    "                    mydrawing.draw_landmarks(\n",
    "                      image=image,\n",
    "                      landmark_list=face_landmarks,\n",
    "                      connections=mesh_face_media.FACEMESH_TESSELATION,\n",
    "                      landmark_drawing_spec=None,\n",
    "                      connection_drawing_spec=myspecs1\n",
    "                    )\n",
    "                    mydrawing.draw_landmarks(\n",
    "                      image=image,\n",
    "                      landmark_list=face_landmarks,\n",
    "                      connections=mesh_face_media.FACEMESH_CONTOURS,\n",
    "                      landmark_drawing_spec=None,\n",
    "                      connection_drawing_spec=myspecs\n",
    "                    )\n",
    "                    mydrawing.draw_landmarks(\n",
    "                      image=image,\n",
    "                      landmark_list=face_landmarks,\n",
    "                      connections=mesh_face_media.FACEMESH_IRISES,\n",
    "                      landmark_drawing_spec=None,\n",
    "                      connection_drawing_spec=mydrawingstyles\n",
    "                      .get_default_face_mesh_iris_connections_style()\n",
    "                    )\n",
    "            \n",
    "            cv2.imshow(\"My Video\",cv2.flip(image,1))\n",
    "            if cv2.waitKey(10) & 0xFF==ord('m'):\n",
    "                break\n",
    "        visuals.release()\n",
    "        cv2.destroyAllWindows()"
   ]
  }
 ],
 "metadata": {
  "kernelspec": {
   "display_name": "Python 3 (ipykernel)",
   "language": "python",
   "name": "python3"
  },
  "language_info": {
   "codemirror_mode": {
    "name": "ipython",
    "version": 3
   },
   "file_extension": ".py",
   "mimetype": "text/x-python",
   "name": "python",
   "nbconvert_exporter": "python",
   "pygments_lexer": "ipython3",
   "version": "3.9.13"
  }
 },
 "nbformat": 4,
 "nbformat_minor": 5
}
